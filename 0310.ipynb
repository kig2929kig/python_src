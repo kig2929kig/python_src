{
  "nbformat": 4,
  "nbformat_minor": 0,
  "metadata": {
    "colab": {
      "provenance": [],
      "authorship_tag": "ABX9TyOpwC434GyJXwx7Y+BhAHqs",
      "include_colab_link": true
    },
    "kernelspec": {
      "name": "python3",
      "display_name": "Python 3"
    },
    "language_info": {
      "name": "python"
    }
  },
  "cells": [
    {
      "cell_type": "markdown",
      "metadata": {
        "id": "view-in-github",
        "colab_type": "text"
      },
      "source": [
        "<a href=\"https://colab.research.google.com/github/kig2929kig/python_src/blob/master/0310.ipynb\" target=\"_parent\"><img src=\"https://colab.research.google.com/assets/colab-badge.svg\" alt=\"Open In Colab\"/></a>"
      ]
    },
    {
      "cell_type": "markdown",
      "source": [
        "# 제목\n",
        "## 타이틀\n",
        "\n",
        "컴퓨터과 3학년 1반  \n",
        "강인구"
      ],
      "metadata": {
        "id": "ZeEySQhDFuKi"
      }
    },
    {
      "cell_type": "code",
      "execution_count": 2,
      "metadata": {
        "colab": {
          "base_uri": "https://localhost:8080/"
        },
        "id": "LYNfoHGBFqIL",
        "outputId": "4cdbfc44-b72a-4dfd-bcd9-59812eba5430"
      },
      "outputs": [
        {
          "output_type": "stream",
          "name": "stdout",
          "text": [
            "오늘은 금요일\n",
            "나혼자 심심해\n"
          ]
        }
      ],
      "source": [
        "print(\"오늘은 금요일\")\n",
        "print(\"나혼자 심심해\")"
      ]
    },
    {
      "cell_type": "code",
      "source": [
        "print(\"친구랑 게임한판!!\")"
      ],
      "metadata": {
        "colab": {
          "base_uri": "https://localhost:8080/"
        },
        "id": "7WUZyi_SGUHK",
        "outputId": "47874f52-0ea4-4042-9d75-42b6ec828d35"
      },
      "execution_count": 3,
      "outputs": [
        {
          "output_type": "stream",
          "name": "stdout",
          "text": [
            "친구랑 게임한판!!\n"
          ]
        }
      ]
    }
  ]
}