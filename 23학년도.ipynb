{
  "nbformat": 4,
  "nbformat_minor": 0,
  "metadata": {
    "colab": {
      "provenance": [],
      "authorship_tag": "ABX9TyMX8XZwzgWEEEwg4vPoORYz",
      "include_colab_link": true
    },
    "kernelspec": {
      "name": "python3",
      "display_name": "Python 3"
    },
    "language_info": {
      "name": "python"
    }
  },
  "cells": [
    {
      "cell_type": "markdown",
      "metadata": {
        "id": "view-in-github",
        "colab_type": "text"
      },
      "source": [
        "<a href=\"https://colab.research.google.com/github/kig2929kig/python_src/blob/master/23%ED%95%99%EB%85%84%EB%8F%84.ipynb\" target=\"_parent\"><img src=\"https://colab.research.google.com/assets/colab-badge.svg\" alt=\"Open In Colab\"/></a>"
      ]
    },
    {
      "cell_type": "markdown",
      "source": [
        "#include<stdio.h>\n",
        "int main() {\n",
        "\n",
        "  printf(\"hi\");\n",
        "\n",
        "  return 0;\n",
        "}\n"
      ],
      "metadata": {
        "id": "jmLcvCL-HSnr"
      }
    },
    {
      "cell_type": "markdown",
      "source": [
        "print(\"hi\")"
      ],
      "metadata": {
        "id": "iz69HnKgHfHy"
      }
    },
    {
      "cell_type": "code",
      "execution_count": 1,
      "metadata": {
        "colab": {
          "base_uri": "https://localhost:8080/"
        },
        "id": "agxSO8NgHRzd",
        "outputId": "d135d812-b34b-4008-e3db-0413d139cc37"
      },
      "outputs": [
        {
          "output_type": "stream",
          "name": "stdout",
          "text": [
            "안녕\n"
          ]
        }
      ],
      "source": [
        "print(\"안녕\")"
      ]
    }
  ]
}